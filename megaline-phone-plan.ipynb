{
 "cells": [
  {
   "cell_type": "markdown",
   "metadata": {},
   "source": [
    "# Statistical Data Analysis Sprint: Cellphone Plan Data"
   ]
  },
  {
   "cell_type": "markdown",
   "metadata": {},
   "source": [
    "- [The Goal](#goal)\n",
    "- [Step 0](#imports): Imports\n",
    "- [Step 1](#step1): Open the data file and study the general information\n",
    "    - [Step 1 conclusion](#step1con)\n",
    "- [Step 2](#step2): Prepare the data\n",
    "    - [Step 2 conclusion](#step2con)\n",
    "- [Step 3](#step3): Analyze the data\n",
    "    - [Step 3 conclusion](#step2con)\n",
    "- [Step 4](#step4): Test the hypotheses\n",
    "    - [Hypothesis 1](#hypothesis1): The average revenue from users of Ultimate and Surf calling plans differs\n",
    "    - [Hypothesis 2](#hypothesis2): The average revenue from users in NY-NJ area is different from that of the users from other regions\n",
    "    - [Step 4 conclusion](#step2con)\n",
    "- [Step 5](#step5): Write an overall conclusion"
   ]
  },
  {
   "cell_type": "markdown",
   "metadata": {},
   "source": [
    "<div class=\"alert alert-block alert-warning\">\n",
    "Комментарий ревьюера v. 1:\n",
    "    \n",
    "It’s great that you added a table of contents with links, but please add a goal of the project. \n",
    "</div>"
   ]
  },
  {
   "cell_type": "markdown",
   "metadata": {},
   "source": [
    "## The Goal <a id='goal'></a>"
   ]
  },
  {
   "cell_type": "markdown",
   "metadata": {},
   "source": [
    "The goal of this project is to explore the cell phone plan usage of a select group of users, determine the impacts of the information on the revenue of the two plans, and determine which plan ultimately generates more revenue."
   ]
  },
  {
   "cell_type": "markdown",
   "metadata": {},
   "source": [
    "<div class=\"alert alert-block alert-success\">\n",
    "Комментарий ревьюера v. 3:\n",
    "    \n",
    "Well done that you added a goal of the project. \n",
    "</div>"
   ]
  },
  {
   "cell_type": "markdown",
   "metadata": {},
   "source": [
    "## Step 0: Imports\n",
    "<a id='imports'></a>"
   ]
  },
  {
   "cell_type": "code",
   "execution_count": 1,
   "metadata": {},
   "outputs": [],
   "source": [
    "#imports\n",
    "import pandas as pd\n",
    "import numpy as np\n",
    "from scipy import stats as st\n",
    "from matplotlib import pyplot as plt\n",
    "import math, re"
   ]
  },
  {
   "cell_type": "markdown",
   "metadata": {},
   "source": [
    "## Step 1: Open the data file and study the general information\n",
    "<a id='step1'></a>"
   ]
  },
  {
   "cell_type": "markdown",
   "metadata": {},
   "source": [
    "<div class=\"alert alert-danger\" role=\"alert\">\n",
    "Reviewer's comment v. 1:\n",
    "    \n",
    "Please add a correct path to the file :) Please see instructions if necessary.\n",
    "</div>"
   ]
  },
  {
   "cell_type": "markdown",
   "metadata": {},
   "source": [
    "<div class=\"alert alert-block alert-success\">\n",
    "Комментарий ревьюера v. 2:\n",
    "    \n",
    "Great, now it's cottect :)\n",
    "</div>"
   ]
  },
  {
   "cell_type": "code",
   "execution_count": 2,
   "metadata": {},
   "outputs": [
    {
     "name": "stdout",
     "output_type": "stream",
     "text": [
      "<class 'pandas.core.frame.DataFrame'>\n",
      "RangeIndex: 137735 entries, 0 to 137734\n",
      "Data columns (total 4 columns):\n",
      "id           137735 non-null object\n",
      "user_id      137735 non-null int64\n",
      "call_date    137735 non-null object\n",
      "duration     137735 non-null float64\n",
      "dtypes: float64(1), int64(1), object(2)\n",
      "memory usage: 4.2+ MB\n",
      "<class 'pandas.core.frame.DataFrame'>\n",
      "RangeIndex: 104825 entries, 0 to 104824\n",
      "Data columns (total 4 columns):\n",
      "id              104825 non-null object\n",
      "user_id         104825 non-null int64\n",
      "session_date    104825 non-null object\n",
      "mb_used         104825 non-null float64\n",
      "dtypes: float64(1), int64(1), object(2)\n",
      "memory usage: 3.2+ MB\n",
      "<class 'pandas.core.frame.DataFrame'>\n",
      "RangeIndex: 76051 entries, 0 to 76050\n",
      "Data columns (total 3 columns):\n",
      "id              76051 non-null object\n",
      "user_id         76051 non-null int64\n",
      "message_date    76051 non-null object\n",
      "dtypes: int64(1), object(2)\n",
      "memory usage: 1.7+ MB\n",
      "<class 'pandas.core.frame.DataFrame'>\n",
      "RangeIndex: 2 entries, 0 to 1\n",
      "Data columns (total 8 columns):\n",
      "messages_included        2 non-null int64\n",
      "mb_per_month_included    2 non-null int64\n",
      "minutes_included         2 non-null int64\n",
      "usd_monthly_pay          2 non-null int64\n",
      "usd_per_gb               2 non-null int64\n",
      "usd_per_message          2 non-null float64\n",
      "usd_per_minute           2 non-null float64\n",
      "plan_name                2 non-null object\n",
      "dtypes: float64(2), int64(5), object(1)\n",
      "memory usage: 256.0+ bytes\n",
      "<class 'pandas.core.frame.DataFrame'>\n",
      "RangeIndex: 500 entries, 0 to 499\n",
      "Data columns (total 8 columns):\n",
      "user_id       500 non-null int64\n",
      "first_name    500 non-null object\n",
      "last_name     500 non-null object\n",
      "age           500 non-null int64\n",
      "city          500 non-null object\n",
      "reg_date      500 non-null object\n",
      "plan          500 non-null object\n",
      "churn_date    34 non-null object\n",
      "dtypes: int64(2), object(6)\n",
      "memory usage: 31.4+ KB\n"
     ]
    }
   ],
   "source": [
    "calls = pd.read_csv('/datasets/megaline_calls.csv')\n",
    "internet = pd.read_csv('/datasets/megaline_internet.csv')\n",
    "messages = pd.read_csv('/datasets/megaline_messages.csv')\n",
    "plans = pd.read_csv('/datasets/megaline_plans.csv')\n",
    "users = pd.read_csv('/datasets/megaline_users.csv')\n",
    "\n",
    "calls.info()\n",
    "internet.info()\n",
    "messages.info()\n",
    "plans.info()\n",
    "users.info()"
   ]
  },
  {
   "cell_type": "markdown",
   "metadata": {},
   "source": [
    "### Step 1 conclusion\n",
    "<a id='step1con'><a/>"
   ]
  },
  {
   "cell_type": "markdown",
   "metadata": {},
   "source": [
    "Initially, we can see that there are no unintentional null values in any of the sets. The only nulls are in the `user` dataset, for the variable `churn_date` which is meant to be the date of the user terminating their plan. In the sample of 500 users, only 34 terminated their plan within this timeframe of the sample.\n",
    "\n",
    "The text `id` number in the `messages` dataset is the user_id plus a message tag. Initially, the message tag number seems inconsistent, but in some sections of a user's messages, the number appears to be consistently consecutive odd or even numbers, implying that the tags inbetween are just the messages received. Received messages are not accounted for in billing."
   ]
  },
  {
   "cell_type": "markdown",
   "metadata": {},
   "source": [
    "<div class=\"alert alert-block alert-success\">\n",
    "Комментарий ревьюера v. 2:\n",
    "    \n",
    "Ok, data is downloaded and ready for the further preparation and analysis.\n",
    "</div>"
   ]
  },
  {
   "cell_type": "markdown",
   "metadata": {},
   "source": [
    "## Step 2: Prepare the data\n",
    "<a id='step2'></a>"
   ]
  },
  {
   "cell_type": "markdown",
   "metadata": {},
   "source": [
    "First, all dates should be made into datetime objects. Secondly, the month of each item than includes a date should have the month placed into a separate column, so the month can beused to calculate the revenue, per month, per user."
   ]
  },
  {
   "cell_type": "code",
   "execution_count": 3,
   "metadata": {
    "scrolled": true
   },
   "outputs": [
    {
     "name": "stdout",
     "output_type": "stream",
     "text": [
      "         id  user_id  call_date  duration  month\n",
      "0   1000_93     1000 2018-12-27         9     12\n",
      "1  1000_145     1000 2018-12-27        14     12\n",
      "2  1000_247     1000 2018-12-27        15     12\n",
      "3  1000_309     1000 2018-12-28         6     12\n",
      "4  1000_380     1000 2018-12-30         5     12\n",
      "<class 'pandas.core.frame.DataFrame'>\n",
      "RangeIndex: 137735 entries, 0 to 137734\n",
      "Data columns (total 5 columns):\n",
      "id           137735 non-null object\n",
      "user_id      137735 non-null int64\n",
      "call_date    137735 non-null datetime64[ns]\n",
      "duration     137735 non-null int64\n",
      "month        137735 non-null int64\n",
      "dtypes: datetime64[ns](1), int64(3), object(1)\n",
      "memory usage: 5.3+ MB\n"
     ]
    },
    {
     "data": {
      "text/plain": [
       "count    137735.000000\n",
       "mean          7.146673\n",
       "std           5.953919\n",
       "min           0.000000\n",
       "25%           2.000000\n",
       "50%           6.000000\n",
       "75%          11.000000\n",
       "max          38.000000\n",
       "Name: duration, dtype: float64"
      ]
     },
     "execution_count": 3,
     "metadata": {},
     "output_type": "execute_result"
    }
   ],
   "source": [
    "calls.duration = calls.duration.apply(lambda x: math.ceil(x))\n",
    "calls.call_date = pd.to_datetime(calls.call_date)\n",
    "calls['month'] = calls.call_date.dt.month\n",
    "print(calls.head())\n",
    "calls.info()\n",
    "calls.describe()['duration']"
   ]
  },
  {
   "cell_type": "markdown",
   "metadata": {},
   "source": [
    "<div class=\"alert alert-block alert-success\">\n",
    "Комментарий ревьюера v. 2:\n",
    "    \n",
    "Yes, it's correct that you have used .ceil to round up data.\n",
    "</div>"
   ]
  },
  {
   "cell_type": "markdown",
   "metadata": {},
   "source": [
    "There appears to be zero duration call times. Presumably, these would be attempted calls that may have been missed, or cancelled. These would not count towards revenue. these can be removed."
   ]
  },
  {
   "cell_type": "code",
   "execution_count": 4,
   "metadata": {},
   "outputs": [
    {
     "name": "stdout",
     "output_type": "stream",
     "text": [
      "1\n"
     ]
    }
   ],
   "source": [
    "calls = calls[calls['duration'] != 0]\n",
    "print(calls.duration.min())"
   ]
  },
  {
   "cell_type": "markdown",
   "metadata": {},
   "source": [
    "<div class=\"alert alert-block alert-success\">\n",
    "Комментарий ревьюера v. 2:\n",
    "    \n",
    "Yes, a zero duration calls can be due to technical error or it can be a missed calls and calls with duration less than 1 minute.\n",
    "</div>"
   ]
  },
  {
   "cell_type": "code",
   "execution_count": 5,
   "metadata": {
    "scrolled": true
   },
   "outputs": [
    {
     "name": "stdout",
     "output_type": "stream",
     "text": [
      "         id  user_id session_date  mb_used  month\n",
      "0   1000_13     1000   2018-12-29    89.86     12\n",
      "1  1000_204     1000   2018-12-31     0.00     12\n",
      "2  1000_379     1000   2018-12-28   660.40     12\n",
      "3  1000_413     1000   2018-12-26   270.99     12\n",
      "4  1000_442     1000   2018-12-27   880.22     12\n",
      "<class 'pandas.core.frame.DataFrame'>\n",
      "RangeIndex: 104825 entries, 0 to 104824\n",
      "Data columns (total 5 columns):\n",
      "id              104825 non-null object\n",
      "user_id         104825 non-null int64\n",
      "session_date    104825 non-null datetime64[ns]\n",
      "mb_used         104825 non-null float64\n",
      "month           104825 non-null int64\n",
      "dtypes: datetime64[ns](1), float64(1), int64(2), object(1)\n",
      "memory usage: 4.0+ MB\n"
     ]
    },
    {
     "data": {
      "text/plain": [
       "count    104825.000000\n",
       "mean        366.713701\n",
       "std         277.170542\n",
       "min           0.000000\n",
       "25%         136.080000\n",
       "50%         343.980000\n",
       "75%         554.610000\n",
       "max        1693.470000\n",
       "Name: mb_used, dtype: float64"
      ]
     },
     "execution_count": 5,
     "metadata": {},
     "output_type": "execute_result"
    }
   ],
   "source": [
    "internet.session_date = pd.to_datetime(internet.session_date)\n",
    "internet['month'] = internet.session_date.dt.month\n",
    "print(internet.head())\n",
    "internet.info()\n",
    "internet.describe().mb_used"
   ]
  },
  {
   "cell_type": "markdown",
   "metadata": {},
   "source": [
    "Once again, there are values of zero during the mb_used. Lets find out how many."
   ]
  },
  {
   "cell_type": "code",
   "execution_count": 6,
   "metadata": {
    "scrolled": true
   },
   "outputs": [
    {
     "name": "stdout",
     "output_type": "stream",
     "text": [
      "13747\n"
     ]
    }
   ],
   "source": [
    "print(internet[internet['mb_used'] == 0].id.count())"
   ]
  },
  {
   "cell_type": "markdown",
   "metadata": {},
   "source": [
    "This is not negligible, so we will fill them with the average internet usage by person. A possible account for this may be when the user is in wifi and therefore data is not actually being used."
   ]
  },
  {
   "cell_type": "markdown",
   "metadata": {},
   "source": [
    "<div class=\"alert alert-block alert-warning\">\n",
    "Комментарий ревьюера v. 2:\n",
    "    \n",
    "Could you please explain a possible reasons of zero internet usage?\n",
    "</div>"
   ]
  },
  {
   "cell_type": "markdown",
   "metadata": {},
   "source": [
    "<div class=\"alert alert-block alert-success\">\n",
    "Комментарий ревьюера v. 3:\n",
    "    \n",
    "Yes, a reasonable explanation. \n",
    "</div>"
   ]
  },
  {
   "cell_type": "code",
   "execution_count": 7,
   "metadata": {},
   "outputs": [
    {
     "data": {
      "text/plain": [
       "count    104825.000000\n",
       "mean        411.056418\n",
       "std         240.212411\n",
       "min           0.010000\n",
       "25%         249.963409\n",
       "50%         355.085347\n",
       "75%         554.710000\n",
       "max        1693.470000\n",
       "Name: mb_used, dtype: float64"
      ]
     },
     "execution_count": 7,
     "metadata": {},
     "output_type": "execute_result"
    }
   ],
   "source": [
    "keys = internet.user_id.unique()\n",
    "values = list(internet.groupby('user_id')['mb_used'].mean())\n",
    "reference = {keys[i]: values[i] for i in range(len(keys))}\n",
    "\n",
    "for i,val in internet.user_id.iteritems():\n",
    "    if internet.loc[i,'mb_used'] == 0:\n",
    "        internet.loc[i,'mb_used'] = reference[val]\n",
    "internet.describe().mb_used"
   ]
  },
  {
   "cell_type": "code",
   "execution_count": 8,
   "metadata": {
    "scrolled": true
   },
   "outputs": [
    {
     "name": "stdout",
     "output_type": "stream",
     "text": [
      "         id  user_id message_date  month\n",
      "0  1000_125     1000   2018-12-27     12\n",
      "1  1000_160     1000   2018-12-31     12\n",
      "2  1000_223     1000   2018-12-31     12\n",
      "3  1000_251     1000   2018-12-27     12\n",
      "4  1000_255     1000   2018-12-26     12\n",
      "<class 'pandas.core.frame.DataFrame'>\n",
      "RangeIndex: 76051 entries, 0 to 76050\n",
      "Data columns (total 4 columns):\n",
      "id              76051 non-null object\n",
      "user_id         76051 non-null int64\n",
      "message_date    76051 non-null datetime64[ns]\n",
      "month           76051 non-null int64\n",
      "dtypes: datetime64[ns](1), int64(2), object(1)\n",
      "memory usage: 2.3+ MB\n"
     ]
    }
   ],
   "source": [
    "messages.message_date = pd.to_datetime(messages.message_date)\n",
    "messages['month'] = messages.message_date.dt.month\n",
    "print(messages.head())\n",
    "messages.info()"
   ]
  },
  {
   "cell_type": "code",
   "execution_count": 9,
   "metadata": {},
   "outputs": [
    {
     "name": "stdout",
     "output_type": "stream",
     "text": [
      "<class 'pandas.core.frame.DataFrame'>\n",
      "RangeIndex: 500 entries, 0 to 499\n",
      "Data columns (total 8 columns):\n",
      "user_id       500 non-null int64\n",
      "first_name    500 non-null object\n",
      "last_name     500 non-null object\n",
      "age           500 non-null int64\n",
      "city          500 non-null object\n",
      "reg_date      500 non-null datetime64[ns]\n",
      "plan          500 non-null object\n",
      "churn_date    34 non-null datetime64[ns]\n",
      "dtypes: datetime64[ns](2), int64(2), object(4)\n",
      "memory usage: 31.4+ KB\n"
     ]
    }
   ],
   "source": [
    "users.reg_date = pd.to_datetime(users.reg_date)\n",
    "users.churn_date = pd.to_datetime(users.churn_date)\n",
    "users.info()"
   ]
  },
  {
   "cell_type": "markdown",
   "metadata": {},
   "source": [
    "<div class=\"alert alert-block alert-success\">\n",
    "Комментарий ревьюера v. 2:\n",
    "    \n",
    "Well done that you brought the data to the desired formats.\n",
    "</div>"
   ]
  },
  {
   "cell_type": "markdown",
   "metadata": {},
   "source": [
    "for fast access, we will associate every `user_id` with their plan in a dictionary. "
   ]
  },
  {
   "cell_type": "code",
   "execution_count": 10,
   "metadata": {},
   "outputs": [],
   "source": [
    "user_plan = {}\n",
    "for index, row in users.iterrows():\n",
    "    user_plan[row['user_id']] = row['plan']"
   ]
  },
  {
   "cell_type": "markdown",
   "metadata": {},
   "source": [
    "Next, each item that makes up the revenue from a user needs to be made into a pivot table to gather each user's activity each month."
   ]
  },
  {
   "cell_type": "code",
   "execution_count": 11,
   "metadata": {},
   "outputs": [],
   "source": [
    "call_by_month = pd.pivot_table(calls, values=['duration'], index=['user_id', 'month'], aggfunc={'user_id': 'count', 'duration': np.sum})\n",
    "call_by_month.columns = ['total_call_duration','call_count']"
   ]
  },
  {
   "cell_type": "code",
   "execution_count": 12,
   "metadata": {},
   "outputs": [],
   "source": [
    "messages_by_month = pd.pivot_table(messages, values=['id'], index=['user_id', 'month'], aggfunc='count')\n",
    "messages_by_month.columns = ['message_count']"
   ]
  },
  {
   "cell_type": "code",
   "execution_count": 13,
   "metadata": {},
   "outputs": [],
   "source": [
    "data_by_month = pd.pivot_table(internet, values=['mb_used'], index=['user_id', 'month'], aggfunc='sum')\n",
    "data_by_month['Gb_used'] = data_by_month.mb_used.apply(lambda x: (x // 1024) + (x % 1024 > 0))"
   ]
  },
  {
   "cell_type": "markdown",
   "metadata": {},
   "source": [
    "Because the data used each month is rounded up to the nearest GB, we needed to integer divide by 1024, and if there was any remaining amount, it would add 1, due to a 1 from a boolean."
   ]
  },
  {
   "cell_type": "markdown",
   "metadata": {},
   "source": [
    "<div class=\"alert alert-block alert-success\">\n",
    "Комментарий ревьюера v. 2:\n",
    "    \n",
    "Well done for using lambda functions.\n",
    "</div>"
   ]
  },
  {
   "cell_type": "markdown",
   "metadata": {},
   "source": [
    "Now we can join the three and create columns that will be used for the reven generated each month for each user and the user's plan type."
   ]
  },
  {
   "cell_type": "code",
   "execution_count": 14,
   "metadata": {},
   "outputs": [],
   "source": [
    "monthly_info = call_by_month\n",
    "monthly_info = monthly_info.join(messages_by_month, how='outer')\n",
    "monthly_info = monthly_info.join(data_by_month, how='outer')\n",
    "monthly_info['revenue'] = 0.0\n",
    "monthly_info['plan_type'] = 'surf'"
   ]
  },
  {
   "cell_type": "markdown",
   "metadata": {},
   "source": [
    "To calculate the revenue per month, it checks each element of the revenue, and adds any extra amounts due to overusage of any category. This is added on the base amount for each plan that already covers a certain amount of call time, messages, and internet usage. \n",
    "\n",
    "Also, the plan gets updated to _ultimate_ when applicable for the user."
   ]
  },
  {
   "cell_type": "code",
   "execution_count": 15,
   "metadata": {},
   "outputs": [],
   "source": [
    "for index, row in monthly_info.iterrows():\n",
    "    count = 0.0\n",
    "    if user_plan[index[0]] == 'surf':\n",
    "        count += 20\n",
    "        if row.total_call_duration > 500:\n",
    "            count += .03 * (row.total_call_duration - 500)\n",
    "        if row.message_count > 50:\n",
    "            count += .03 * (row.message_count - 50)\n",
    "        if row.Gb_used > 15:\n",
    "            count += 10 * (row.Gb_used - 15)\n",
    "    else:\n",
    "        monthly_info.loc[index, 'plan_type'] = 'ultimate'\n",
    "        count += 70\n",
    "        if row.total_call_duration > 3000:\n",
    "            count += .01 * (row.total_call_duration - 3000)\n",
    "        if row.message_count > 1000:\n",
    "            count += .01 * (row.message_count - 1000)\n",
    "        if row.Gb_used > 30:\n",
    "            count += 7 * (row.Gb_used - 30)\n",
    "    monthly_info.loc[index, 'revenue'] = count\n",
    "monthly_info = monthly_info.reset_index()"
   ]
  },
  {
   "cell_type": "markdown",
   "metadata": {},
   "source": [
    "<div class=\"alert alert-danger\" role=\"alert\">\n",
    "Reviewer's comment v. 1:\n",
    "    \n",
    "Could you please analyse are there any anomalies in data?\n",
    "</div>"
   ]
  },
  {
   "cell_type": "markdown",
   "metadata": {},
   "source": [
    "<div class=\"alert alert-block alert-success\">\n",
    "Комментарий ревьюера v. 3:\n",
    "    \n",
    "Great, anomalies with a zero duration calls and internet usage were described. \n",
    "</div>"
   ]
  },
  {
   "cell_type": "markdown",
   "metadata": {},
   "source": [
    "### Step 2 conclusion <a id='step2con'></a>\n",
    "In step 2, all dates were turned into datetime objects, and the months pulled into their own columns. Each call was rounded up towards the nearest minute, and the monthly mb of internet usage was rounded up to the nearest Gb. \n",
    "\n",
    "After the data was properly processed, the monthly average number of messages, total call time, and data usage was calculated from pivot tables and joined into a single dataframe. The new dataframe, `monthly_info`, was used to calculate the revenue of each month of each user. The index of this dataframe was reset, so that all information of the user and month were available in the columns to make graphing and manipulating easier in step 3."
   ]
  },
  {
   "cell_type": "markdown",
   "metadata": {},
   "source": [
    "<div class=\"alert alert-block alert-success\">\n",
    "Комментарий ревьюера v. 2:\n",
    "    \n",
    "Well done that you clearly analysed data.\n",
    "</div>"
   ]
  },
  {
   "cell_type": "markdown",
   "metadata": {},
   "source": [
    "## Step 3. Analyze the data <a id='step3'></a>"
   ]
  },
  {
   "cell_type": "code",
   "execution_count": 16,
   "metadata": {},
   "outputs": [],
   "source": [
    "monthly_info_surf = monthly_info[monthly_info['plan_type'] == 'surf']\n",
    "monthly_info_ultimate = monthly_info[monthly_info['plan_type'] == 'ultimate']"
   ]
  },
  {
   "cell_type": "markdown",
   "metadata": {},
   "source": [
    "Now that we have split the data by plans, we can graph the revenue, and the parameters that make up the revenue, by the plan type."
   ]
  },
  {
   "cell_type": "code",
   "execution_count": 17,
   "metadata": {
    "scrolled": false
   },
   "outputs": [
    {
     "data": {
      "image/png": "[encoded data removed]",
      "text/plain": [
       "<Figure size 720x576 with 4 Axes>"
      ]
     },
     "metadata": {
      "needs_background": "light"
     },
     "output_type": "display_data"
    }
   ],
   "source": [
    "fig, axes = plt.subplots(2, 2)\n",
    "parameters = [['revenue', 'Gb_used'], ['total_call_duration', 'message_count']]\n",
    "for i in range(2):\n",
    "    for ii in range(2):\n",
    "        # make the bins line up between surf and ultimate\n",
    "        max_surf_bin = math.ceil(monthly_info_surf[parameters[i][ii]].max())\n",
    "        max_ultimate_bin = math.ceil(monthly_info_ultimate[parameters[i][ii]].max())\n",
    "        max_val = max(max_surf_bin, max_ultimate_bin)\n",
    "        bin_range = range(0, max_val, int(max_val/30))\n",
    "        \n",
    "        monthly_info_surf.hist(column=parameters[i][ii], bins = bin_range, ax=axes[i,ii], label='Surf')\n",
    "        monthly_info_ultimate.hist(column=parameters[i][ii], bins = bin_range, ax=axes[i,ii], label='Ultimate')\n",
    "        axes[i,ii].set_xlabel('Monthly {}'.format(parameters[i][ii].title()))\n",
    "        axes[i,ii].set_ylabel('Frequency')\n",
    "        axes[i,ii].set_title('Frequencies of Monthly {}'.format(parameters[i][ii].title()))\n",
    "        axes[i,ii].legend(loc='upper right')\n",
    "fig.set_size_inches(10,8)"
   ]
  },
  {
   "cell_type": "markdown",
   "metadata": {},
   "source": [
    "<div class=\"alert alert-block alert-success\">\n",
    "Комментарий ревьюера v. 2:\n",
    "    \n",
    "It's great that you didn't forget the axis labels and the title to the graph. Well done that you plotted bothe plans on the same graph. This makes it easier to analyze the data.\n",
    "</div>"
   ]
  },
  {
   "cell_type": "markdown",
   "metadata": {},
   "source": [
    "The revenue of the plans has a significant difference between the two. It appears that the _surf_ plan users have a majority of people who only pay the $20, but still a significant number of users use more than the allotted amount of calls, messages, and data so they do pay more. As for the _ultimate_ plan users, most of them do not pay more than \\\\$70, and very few used their phone enough to increase their monthly bill.\n",
    "\n",
    "As for the other variables, the two plans have extremely similar graph shapes compared between each other. The _ultimate_ plan looks like the _surf_ plan graphs, however they are scaled down. This implies that the difference is mostly in the number of users, and therefore a smaller user base would mean lower frequencies.\n",
    "\n",
    "Lets look at the descriptive statistics to determine if this is true."
   ]
  },
  {
   "cell_type": "markdown",
   "metadata": {},
   "source": [
    "<div class=\"alert alert-block alert-success\">\n",
    "Комментарий ревьюера v. 2:\n",
    "    \n",
    "It's great that you analyzed the graph in details. But could you please describe the type of distributions?\n",
    "    \n",
    "Please see for details: https://www.analyticsvidhya.com/blog/2017/09/6-probability-distributions-data-science/\n",
    "</div>"
   ]
  },
  {
   "cell_type": "code",
   "execution_count": 18,
   "metadata": {},
   "outputs": [
    {
     "data": {
      "image/png": "[encoded data removed]",
      "text/plain": [
       "<Figure size 720x360 with 4 Axes>"
      ]
     },
     "metadata": {
      "needs_background": "light"
     },
     "output_type": "display_data"
    }
   ],
   "source": [
    "fig, axes = plt.subplots(2, 2)\n",
    "collabel=(\"Surf\", \"Ultimate\")\n",
    "rowlabel=(\"Mean\", \"Median\", \"Variance\", \"Standard Deviation\")\n",
    "for i in range(2):\n",
    "    for ii in range(2):\n",
    "        par = parameters[i][ii]\n",
    "        surf_info = monthly_info_surf[par]\n",
    "        ultimate_info = monthly_info_ultimate[par]\n",
    "        data = [\n",
    "            [surf_info.mean(), ultimate_info.mean()],\n",
    "            [surf_info.median(), ultimate_info.median()],\n",
    "            [np.var(surf_info), np.var(ultimate_info)],\n",
    "            [np.std(surf_info), np.std(ultimate_info)]\n",
    "        ]\n",
    "        for j in range(len(data)):\n",
    "            for jj in range(len(data[0])):\n",
    "                data[j][jj] = round(data[j][jj], 2)\n",
    "\n",
    "        tab = axes[i,ii].table(cellText=data, colLabels=collabel, rowLabels=rowlabel, loc='center')\n",
    "        axes[i,ii].set_title('Monthly {}'.format(parameters[i][ii].title()))\n",
    "        axes[i,ii].get_xaxis().set_visible(False)\n",
    "        axes[i,ii].get_yaxis().set_visible(False)\n",
    "        axes[i,ii].axis('off')\n",
    "        tab.auto_set_column_width(col=list(range(len(collabel))))\n",
    "fig.set_size_inches(10,5)\n"
   ]
  },
  {
   "cell_type": "markdown",
   "metadata": {},
   "source": [
    "As predicted in the graphs, the variances of all graphs besides the revenue are relatively similar between the two plans. Also, the mean and medians of these parameters are also very similar between each other. This indicates that most of the users have similar activity, regardless of the purchased plan."
   ]
  },
  {
   "cell_type": "markdown",
   "metadata": {},
   "source": [
    "Lets try this a second time, with outliers removed."
   ]
  },
  {
   "cell_type": "code",
   "execution_count": 19,
   "metadata": {},
   "outputs": [],
   "source": [
    "def clean_outliers(df, params):\n",
    "    Q1 = df.quantile(0.25)\n",
    "    Q3 = df.quantile(0.75)\n",
    "    IQR = Q3 - Q1\n",
    "    df_clean = df[~((df < (Q1 - 1.5 * IQR)) |(df > (Q3 + 1.5 * IQR))).any(axis=1)]\n",
    "    return df_clean"
   ]
  },
  {
   "cell_type": "code",
   "execution_count": 20,
   "metadata": {},
   "outputs": [],
   "source": [
    "filter_parameters = ['Gb_used', 'total_call_duration', 'message_count']\n",
    "monthly_info_surf_clean = clean_outliers(monthly_info_surf, parameters)\n",
    "monthly_info_ultimate_clean = clean_outliers(monthly_info_ultimate, parameters)"
   ]
  },
  {
   "cell_type": "code",
   "execution_count": 21,
   "metadata": {},
   "outputs": [
    {
     "data": {
      "image/png": "[encoded data removed]",
      "text/plain": [
       "<Figure size 720x576 with 4 Axes>"
      ]
     },
     "metadata": {
      "needs_background": "light"
     },
     "output_type": "display_data"
    }
   ],
   "source": [
    "fig, axes = plt.subplots(2, 2)\n",
    "parameters = [['revenue', 'Gb_used'], ['total_call_duration', 'message_count']]\n",
    "for i in range(2):\n",
    "    for ii in range(2):\n",
    "        # make the bins line up between surf and ultimate\n",
    "        max_surf_bin = math.ceil(monthly_info_surf_clean[parameters[i][ii]].max())\n",
    "        max_ultimate_bin = math.ceil(monthly_info_ultimate_clean[parameters[i][ii]].max())\n",
    "        max_val = max(max_surf_bin, max_ultimate_bin)\n",
    "        bin_range = range(0, max_val, int(max_val/30))\n",
    "        \n",
    "        monthly_info_surf_clean.hist(column=parameters[i][ii], bins = bin_range, ax=axes[i,ii], label='Surf')\n",
    "        monthly_info_ultimate_clean.hist(column=parameters[i][ii], bins = bin_range, ax=axes[i,ii], label='Ultimate')\n",
    "        axes[i,ii].set_xlabel('Monthly {}'.format(parameters[i][ii].title()))\n",
    "        axes[i,ii].set_ylabel('Frequency')\n",
    "        axes[i,ii].set_title('Frequencies of Monthly {}'.format(parameters[i][ii].title()))\n",
    "        axes[i,ii].legend(loc='upper right')\n",
    "fig.set_size_inches(10,8)"
   ]
  },
  {
   "cell_type": "code",
   "execution_count": 22,
   "metadata": {},
   "outputs": [
    {
     "data": {
      "image/png": "[encoded data removed]",
      "text/plain": [
       "<Figure size 720x360 with 4 Axes>"
      ]
     },
     "metadata": {
      "needs_background": "light"
     },
     "output_type": "display_data"
    }
   ],
   "source": [
    "fig, axes = plt.subplots(2, 2)\n",
    "collabel=(\"Surf\", \"Ultimate\")\n",
    "rowlabel=(\"Mean\", \"Median\", \"Variance\", \"Standard Deviation\")\n",
    "for i in range(2):\n",
    "    for ii in range(2):\n",
    "        par = parameters[i][ii]\n",
    "        surf_info = monthly_info_surf_clean[par]\n",
    "        ultimate_info = monthly_info_ultimate_clean[par]\n",
    "        data = [\n",
    "            [surf_info.mean(), ultimate_info.mean()],\n",
    "            [surf_info.median(), ultimate_info.median()],\n",
    "            [np.var(surf_info), np.var(ultimate_info)],\n",
    "            [np.std(surf_info), np.std(ultimate_info)]\n",
    "        ]\n",
    "        for j in range(len(data)):\n",
    "            for jj in range(len(data[0])):\n",
    "                data[j][jj] = round(data[j][jj], 2)\n",
    "\n",
    "        tab = axes[i,ii].table(cellText=data, colLabels=collabel, rowLabels=rowlabel, loc='center')\n",
    "        axes[i,ii].set_title('Monthly {}'.format(parameters[i][ii].title()))\n",
    "        axes[i,ii].get_xaxis().set_visible(False)\n",
    "        axes[i,ii].get_yaxis().set_visible(False)\n",
    "        axes[i,ii].axis('off')\n",
    "        tab.auto_set_column_width(col=list(range(len(collabel))))\n",
    "fig.set_size_inches(10,5)"
   ]
  },
  {
   "cell_type": "markdown",
   "metadata": {},
   "source": [
    "<div class=\"alert alert-block alert-success\">\n",
    "Комментарий ревьюера v. 2:\n",
    "    \n",
    "Well done that you calculated the mean, variance and standard deviation for both plans, analysed it and made a corresponding conclusions.\n",
    "</div>"
   ]
  },
  {
   "cell_type": "markdown",
   "metadata": {},
   "source": [
    "### Step 3 conclusion <a id='step3con'></a>\n",
    "The early exploratory analysis has been completed, and the revenue and variables of the revenue have been explored. The revenue for both plans are positively skewed, but are shifted from each other based on the base price. The number of sent messages, internet used, and call durations are relatively similar in terms of their mean, median and standard deviation. This would indicate that a lot of _ultimate_ customers would most likely save money if they dropped to the _surf_ plan, and just paid for the extra usage above what is covered in the base cost. The costs are relatively the same, with and without the outliers gone. The _ultimate_ plan dropped slightly with the removal of the outliers, but because it removed any revenue instances above the base \\\\$70. The mean of the surf is 71 and the median is 60. So a majority already accept that they may use about the same as what is available to them in the base cost of the _ultimate_ plan, but can still normally stay below the \\\\$70 price tag of the _ultimate_ plan.\n",
    "\n",
    "To further understand the difference and find if it is substantial, we will test difference in a hypothesis in step 4."
   ]
  },
  {
   "cell_type": "markdown",
   "metadata": {},
   "source": [
    "<div class=\"alert alert-block alert-danger\">\n",
    "Комментарий ревьюера v. 2:\n",
    "    \n",
    "Could you please analyse data for an outliers and remove them?\n",
    "    \n",
    "Please see for details: https://towardsdatascience.com/ways-to-detect-and-remove-the-outliers-404d16608dba \n",
    "</div>"
   ]
  },
  {
   "cell_type": "markdown",
   "metadata": {},
   "source": [
    "<div class=\"alert alert-block alert-warning\">\n",
    "Комментарий ревьюера v. 3:\n",
    "    \n",
    "Well done that you used IQR method to analyse and remove an outliers, but please remember about boxplots.\n",
    "</div>"
   ]
  },
  {
   "cell_type": "markdown",
   "metadata": {},
   "source": [
    "## Step 4. Test the hypotheses <a id='step4'></a>"
   ]
  },
  {
   "cell_type": "code",
   "execution_count": 23,
   "metadata": {},
   "outputs": [],
   "source": [
    "# the level of significance\n",
    "alpha = .05"
   ]
  },
  {
   "cell_type": "markdown",
   "metadata": {},
   "source": [
    "### Hypothesis 1: The average revenue from users of Ultimate and Surf calling plans differs <a id='hypothesis1'></a>"
   ]
  },
  {
   "cell_type": "markdown",
   "metadata": {},
   "source": [
    "A dual sample t-test will be used to determine if the _surf_ plan and _ultimate_ plan generate different monthly revenues per person. We will create the following hypotheses:"
   ]
  },
  {
   "cell_type": "markdown",
   "metadata": {},
   "source": [
    "The null hypothesis, $H_0$: The average revenue from users of the _ultimate_ plan and the _surf_ plan are equal.  \n",
    "The alternative hypothesis, $H_A$: The average revenue from users of the _ultimate_ plan and the _surf_ plan are not equal."
   ]
  },
  {
   "cell_type": "markdown",
   "metadata": {},
   "source": [
    "<div class=\"alert alert-danger\" role=\"alert\">\n",
    "Reviewer's comment v. 1:\n",
    "    \n",
    "Could you please add hypotheses formulation before the tests?\n",
    "</div>"
   ]
  },
  {
   "cell_type": "markdown",
   "metadata": {},
   "source": [
    "<div class=\"alert alert-block alert-success\">\n",
    "Комментарий ревьюера v. 2:\n",
    "    \n",
    "Yes, a correct hypotheses formulation :)\n",
    "</div>"
   ]
  },
  {
   "cell_type": "code",
   "execution_count": 24,
   "metadata": {},
   "outputs": [
    {
     "name": "stdout",
     "output_type": "stream",
     "text": [
      "p-value:  0.03424497340667482\n",
      "We can reject the null hypothesis\n"
     ]
    }
   ],
   "source": [
    "results = st.ttest_ind(\n",
    "    monthly_info_surf['revenue'],\n",
    "    monthly_info_ultimate['revenue'],\n",
    "    equal_var=False)\n",
    "\n",
    "print('p-value: ', results.pvalue)\n",
    "\n",
    "if results.pvalue > alpha:\n",
    "    print('We cannot reject the null hypothesis')\n",
    "else:\n",
    "    print('We can reject the null hypothesis')"
   ]
  },
  {
   "cell_type": "code",
   "execution_count": 25,
   "metadata": {},
   "outputs": [
    {
     "name": "stdout",
     "output_type": "stream",
     "text": [
      "p-value:  0.2582897479369501\n",
      "We cannot reject the null hypothesis\n"
     ]
    }
   ],
   "source": [
    "results = st.ttest_ind(\n",
    "    monthly_info_surf_clean['revenue'],\n",
    "    monthly_info_ultimate_clean['revenue'],\n",
    "    equal_var=False)\n",
    "\n",
    "print('p-value: ', results.pvalue)\n",
    "\n",
    "if results.pvalue > alpha:\n",
    "    print('We cannot reject the null hypothesis')\n",
    "else:\n",
    "    print('We can reject the null hypothesis')"
   ]
  },
  {
   "cell_type": "markdown",
   "metadata": {},
   "source": [
    "The variances of the two subsamples are not equal, and therefore the parameter, `equal_var` must be set to False to compare sets with different variances and/or sets of different sizes."
   ]
  },
  {
   "cell_type": "markdown",
   "metadata": {},
   "source": [
    "<div class=\"alert alert-danger\" role=\"alert\">\n",
    "Reviewer's comment v. 1:\n",
    "    \n",
    "Could you please check options of the statistical tests? Please note that it's necessary to check that the populations have identical variances.\n",
    "    \n",
    "Please see for details: https://docs.scipy.org/doc/scipy/reference/generated/scipy.stats.ttest_ind.html\n",
    "</div>"
   ]
  },
  {
   "cell_type": "markdown",
   "metadata": {},
   "source": [
    "The null hypothesis of a dual sample t-test is that the two groups are similar, and the alternative hypothesis is that they are dissimilar. In this case, the null hypothesis is that the _surf_ plan generates similar monthly revenues per person to the _ultimate_ plan. In the results of the t-test with the outliers included, the p-value was below our level of significance and we could reject the null variable and say that the monthly revenue generated per person is different between the two plans. However, with the outliers removed, they appear to be too close to call. This makes sense from the mean and median shown above in Step 4. The _ultimate_ plan is generating a minimum of \\\\$70, while the mean and median of the _surf_ plan are about \\\\$71 and \\\\$70, respectively."
   ]
  },
  {
   "cell_type": "markdown",
   "metadata": {},
   "source": [
    "<div class=\"alert alert-block alert-success\">\n",
    "Комментарий ревьюера v. 2:\n",
    "    \n",
    "Yes, you right. We have a statistically significant differences in the average revenue from users of Ultimate and Surf plans.\n",
    "</div>"
   ]
  },
  {
   "cell_type": "markdown",
   "metadata": {},
   "source": [
    "### Hypothesis 2: The average revenue from users in NY-NJ area is different from that of the users from other regions <a id='hypothesis2'></a>"
   ]
  },
  {
   "cell_type": "markdown",
   "metadata": {},
   "source": [
    "A single sample t-test will be used for the NY-NJ subset of users, as it is a sub-sample of the sample of 500 users of the plans. The following hypotheses were created:"
   ]
  },
  {
   "cell_type": "markdown",
   "metadata": {},
   "source": [
    "The null hypothesis, $H_0$: The average revenue from users in the NY-NJ area are equal to the entire sample.  \n",
    "The alternative hypothesis, $H_A$: The average revenue from users in the NY-NJ area are not equal to the entire sample."
   ]
  },
  {
   "cell_type": "markdown",
   "metadata": {},
   "source": [
    "<div class=\"alert alert-block alert-success\">\n",
    "Комментарий ревьюера v. 2:\n",
    "    \n",
    "Well done that you correctly formulated both hypothese.\n",
    "</div>"
   ]
  },
  {
   "cell_type": "code",
   "execution_count": 26,
   "metadata": {},
   "outputs": [],
   "source": [
    "monthly_info['in_NY_NJ'] = 0\n",
    "for index, row in monthly_info.iterrows():\n",
    "    user = row.user_id\n",
    "    user_index = users.user_id[users.user_id == user].index\n",
    "    if re.search('NY-NJ', users.iat[user_index[0], 4]):\n",
    "        monthly_info.loc[index, 'in_NY_NJ'] = 1"
   ]
  },
  {
   "cell_type": "markdown",
   "metadata": {},
   "source": [
    "A column indicating whether the user was located in the NY-NJ area was added to the `monthly_info` dataframe."
   ]
  },
  {
   "cell_type": "code",
   "execution_count": 27,
   "metadata": {},
   "outputs": [
    {
     "name": "stdout",
     "output_type": "stream",
     "text": [
      "p-value:  0.9500937994379403\n",
      "We cannot reject the null hypothesis\n"
     ]
    }
   ],
   "source": [
    "interested_value = int(monthly_info['revenue'].mean())\n",
    "ny_nj_sample = monthly_info[monthly_info['in_NY_NJ'] == 1]\n",
    "results = st.ttest_1samp(\n",
    "    ny_nj_sample['revenue'],\n",
    "    interested_value)\n",
    "\n",
    "print('p-value: ', results.pvalue)\n",
    "\n",
    "if results.pvalue > alpha:\n",
    "    print('We cannot reject the null hypothesis')\n",
    "else:\n",
    "    print('We can reject the null hypothesis')"
   ]
  },
  {
   "cell_type": "markdown",
   "metadata": {},
   "source": [
    "The null hypothesis of the single sample t-test is that the sub-sample of the NY-NJ usersgenerate similar revenue to that of the whole sample of the users, and the alternative hypothesis was that they were dissimilar. The p value of the t-test was above our level of significance, and so it fell within our band to not reject the null hypothesis. This means that as it stands, we cannot reject that the NY-NJ group of users generates similar revenue to the entire user base of the sample."
   ]
  },
  {
   "cell_type": "markdown",
   "metadata": {},
   "source": [
    "<div class=\"alert alert-success\" role=\"alert\">\n",
    "Reviewer's comment v. 1:\n",
    "    \n",
    "Please see additional materials: https://ocw.mit.edu/courses/mathematics/18-443-statistics-for-applications-fall-2006/lecture-notes/lecture13.pdf \n",
    "</div>"
   ]
  },
  {
   "cell_type": "markdown",
   "metadata": {},
   "source": [
    "<div class=\"alert alert-block alert-success\">\n",
    "Комментарий ревьюера v. 2:\n",
    "    \n",
    "Yes, there is no a statistically significant differences in the average revenue from users in NY-NJ area and users from other regions.\n",
    "</div>"
   ]
  },
  {
   "cell_type": "markdown",
   "metadata": {},
   "source": [
    "### Step 4 conclusion <a id='step4con'></a>\n",
    "The original hypotheses that we had were that the two cell plans generate different amounts of average monthly revenue of its users, and that the NY-NJ based users had differing amounts of revenue generation.\n",
    "\n",
    "We can conclude, that for the first hypothesis, the two plans did generate different amounts of revenue with all events included, based on the rejection of the null hypothesis that they would be similar, but were not similar with outliers removed. This makes sense from our preliminary analysis of the measures of central tendancies and descriptive statistics. Because the _surf_ plan costs \\\\$20 at its lowest, and the _ultimate_ plan costs \\\\$70 at its base, it would make sense to suggest such a hypothesis if we would think people would buy the _surf_ plan because they thought they wouldn't use their phones enough to break a \\\\$70 price tag, but may end up paying about that much regardless.\n",
    "\n",
    "As for the second hypothesis, we concluded that the NY-NJ based users do not generate more average monthly revenue than the average monthly of the entire sample. This implies that these users do not necessarily differ in overall phone usage than the other users. The city that never sleeps doesn't seem to spend that extra time looking at their phone as compared to the average Megaline user."
   ]
  },
  {
   "cell_type": "markdown",
   "metadata": {},
   "source": [
    "## Step 5. Write an overall conclusion <a id='step5'></a>"
   ]
  },
  {
   "cell_type": "markdown",
   "metadata": {},
   "source": [
    "In this project, the data has been reviewed and changed into the correct types. The data has been split by year, so that the revenue can be calculated. Once done so, frequncy histograms and distributions by platform, genre, and ESRB rating were generated by location,. \n",
    "\n",
    "We initially found that phone usage did not seem to vary between the users of the two plans. The internet usage and total call time during the month was nearly identical between the plans. The messages averaged slightly higher with the _ultimate_ plan, but not considerably so, especially when they averaged around 46 sent messages per month, while the limit from the _surf_ plan to the _ultimate_ plan is from 50 to 1000 messages. The revenue appeared to be different from these histograms, so we continued further by hypothesizing that they were indeed different.\n",
    "\n",
    "We used the alternative hypothesis that these two sets of users were indeed different, based on a 5% significance level with all months included, but were not different with the outliers removed. By comparing these two plans with the null hypothesis, that they were the same, we concluded that it failed the null hypothesis, so it was rejected and then the outliers were removed and the two were too close to reject the null hypothesis. We then questioned if location could be a factor in phone usage. In particular, the New York, New Jersey area, closer to the city that never sleeps. Surely they must need to use their phone more so, right? \n",
    "\n",
    "The hypothesis of this subsect of the sample was a single sample t test, tested against the entire set. The null hypothesis, being that they were indistinguishable from the entire set, could not be rejected, as the p value of the set fell was higher than our level of significance. We concluded, for now, that the NY-NJ group does not use their phones more than the average user of the entire sample.\n",
    "\n",
    "We believe that any marketing should not be location based. Also, more effort should be put towards marketing the _surf_ plan because the average phone usage is indistinguishable between the plans and although marginal, the _surf_ plan generated more revenue per person, per month. This is the clase with and with outliers included."
   ]
  },
  {
   "cell_type": "markdown",
   "metadata": {},
   "source": [
    "<div class=\"alert alert-block alert-warning\">\n",
    "Комментарий ревьюера v. 2:\n",
    "    \n",
    "It's great that you clearly described all main results of the project. But please note that for the operator, the Surf plan will be more profitable, while maintaining the current limits on the subscription fee.\n",
    "</div>"
   ]
  },
  {
   "cell_type": "markdown",
   "metadata": {},
   "source": [
    "<div class=\"alert alert-block alert-success\">\n",
    "Комментарий ревьюера v. 3:\n",
    "    \n",
    "Well done that you aclearly described all main results of the project. \n",
    "</div>"
   ]
  },
  {
   "cell_type": "code",
   "execution_count": null,
   "metadata": {},
   "outputs": [],
   "source": []
  }
 ],
 "metadata": {
  "kernelspec": {
   "display_name": "Python 3",
   "language": "python",
   "name": "python3"
  },
  "language_info": {
   "codemirror_mode": {
    "name": "ipython",
    "version": 3
   },
   "file_extension": ".py",
   "mimetype": "text/x-python",
   "name": "python",
   "nbconvert_exporter": "python",
   "pygments_lexer": "ipython3",
   "version": "3.7.8"
  },
  "toc": {
   "base_numbering": 1,
   "nav_menu": {},
   "number_sections": true,
   "sideBar": true,
   "skip_h1_title": true,
   "title_cell": "Table of Contents",
   "title_sidebar": "Contents",
   "toc_cell": false,
   "toc_position": {},
   "toc_section_display": true,
   "toc_window_display": false
  }
 },
 "nbformat": 4,
 "nbformat_minor": 5
}
